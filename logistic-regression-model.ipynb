{
 "cells": [
  {
   "cell_type": "markdown",
   "metadata": {},
   "source": [
    "## Importing Packages"
   ]
  },
  {
   "cell_type": "code",
   "execution_count": 2,
   "metadata": {
    "_cell_guid": "b1076dfc-b9ad-4769-8c92-a6c4dae69d19",
    "_uuid": "8f2839f25d086af736a60e9eeb907d3b93b6e0e5",
    "execution": {
     "iopub.execute_input": "2023-12-12T22:42:43.051048Z",
     "iopub.status.busy": "2023-12-12T22:42:43.049884Z",
     "iopub.status.idle": "2023-12-12T22:42:43.058367Z",
     "shell.execute_reply": "2023-12-12T22:42:43.057314Z",
     "shell.execute_reply.started": "2023-12-12T22:42:43.051010Z"
    }
   },
   "outputs": [
    {
     "data": {
      "text/plain": [
       "{'divide': 'warn', 'over': 'ignore', 'under': 'ignore', 'invalid': 'warn'}"
      ]
     },
     "execution_count": 2,
     "metadata": {},
     "output_type": "execute_result"
    }
   ],
   "source": [
    "import numpy as np\n",
    "import pandas as pd\n",
    "import matplotlib.pyplot as plt\n",
    "import seaborn as sns\n",
    "np.seterr(over='ignore')"
   ]
  },
  {
   "cell_type": "markdown",
   "metadata": {},
   "source": [
    "## Importing Data"
   ]
  },
  {
   "cell_type": "code",
   "execution_count": 3,
   "metadata": {
    "execution": {
     "iopub.execute_input": "2023-12-12T22:42:43.064713Z",
     "iopub.status.busy": "2023-12-12T22:42:43.064276Z",
     "iopub.status.idle": "2023-12-12T22:42:43.077287Z",
     "shell.execute_reply": "2023-12-12T22:42:43.076343Z",
     "shell.execute_reply.started": "2023-12-12T22:42:43.064679Z"
    }
   },
   "outputs": [],
   "source": [
    "data = pd.read_csv(\"diabetes2.csv\")"
   ]
  },
  {
   "cell_type": "markdown",
   "metadata": {},
   "source": [
    "## Data Exploration"
   ]
  },
  {
   "cell_type": "code",
   "execution_count": 4,
   "metadata": {
    "execution": {
     "iopub.execute_input": "2023-12-12T22:42:43.109106Z",
     "iopub.status.busy": "2023-12-12T22:42:43.108324Z",
     "iopub.status.idle": "2023-12-12T22:42:43.126669Z",
     "shell.execute_reply": "2023-12-12T22:42:43.125502Z",
     "shell.execute_reply.started": "2023-12-12T22:42:43.109066Z"
    }
   },
   "outputs": [
    {
     "data": {
      "text/html": [
       "<div>\n",
       "<style scoped>\n",
       "    .dataframe tbody tr th:only-of-type {\n",
       "        vertical-align: middle;\n",
       "    }\n",
       "\n",
       "    .dataframe tbody tr th {\n",
       "        vertical-align: top;\n",
       "    }\n",
       "\n",
       "    .dataframe thead th {\n",
       "        text-align: right;\n",
       "    }\n",
       "</style>\n",
       "<table border=\"1\" class=\"dataframe\">\n",
       "  <thead>\n",
       "    <tr style=\"text-align: right;\">\n",
       "      <th></th>\n",
       "      <th>Pregnancies</th>\n",
       "      <th>Glucose</th>\n",
       "      <th>BloodPressure</th>\n",
       "      <th>SkinThickness</th>\n",
       "      <th>Insulin</th>\n",
       "      <th>BMI</th>\n",
       "      <th>DiabetesPedigreeFunction</th>\n",
       "      <th>Age</th>\n",
       "      <th>Outcome</th>\n",
       "    </tr>\n",
       "  </thead>\n",
       "  <tbody>\n",
       "    <tr>\n",
       "      <th>0</th>\n",
       "      <td>6</td>\n",
       "      <td>148</td>\n",
       "      <td>72</td>\n",
       "      <td>35</td>\n",
       "      <td>0</td>\n",
       "      <td>33.6</td>\n",
       "      <td>0.627</td>\n",
       "      <td>50</td>\n",
       "      <td>1</td>\n",
       "    </tr>\n",
       "    <tr>\n",
       "      <th>1</th>\n",
       "      <td>1</td>\n",
       "      <td>85</td>\n",
       "      <td>66</td>\n",
       "      <td>29</td>\n",
       "      <td>0</td>\n",
       "      <td>26.6</td>\n",
       "      <td>0.351</td>\n",
       "      <td>31</td>\n",
       "      <td>0</td>\n",
       "    </tr>\n",
       "    <tr>\n",
       "      <th>2</th>\n",
       "      <td>8</td>\n",
       "      <td>183</td>\n",
       "      <td>64</td>\n",
       "      <td>0</td>\n",
       "      <td>0</td>\n",
       "      <td>23.3</td>\n",
       "      <td>0.672</td>\n",
       "      <td>32</td>\n",
       "      <td>1</td>\n",
       "    </tr>\n",
       "    <tr>\n",
       "      <th>3</th>\n",
       "      <td>1</td>\n",
       "      <td>89</td>\n",
       "      <td>66</td>\n",
       "      <td>23</td>\n",
       "      <td>94</td>\n",
       "      <td>28.1</td>\n",
       "      <td>0.167</td>\n",
       "      <td>21</td>\n",
       "      <td>0</td>\n",
       "    </tr>\n",
       "    <tr>\n",
       "      <th>4</th>\n",
       "      <td>0</td>\n",
       "      <td>137</td>\n",
       "      <td>40</td>\n",
       "      <td>35</td>\n",
       "      <td>168</td>\n",
       "      <td>43.1</td>\n",
       "      <td>2.288</td>\n",
       "      <td>33</td>\n",
       "      <td>1</td>\n",
       "    </tr>\n",
       "    <tr>\n",
       "      <th>5</th>\n",
       "      <td>5</td>\n",
       "      <td>116</td>\n",
       "      <td>74</td>\n",
       "      <td>0</td>\n",
       "      <td>0</td>\n",
       "      <td>25.6</td>\n",
       "      <td>0.201</td>\n",
       "      <td>30</td>\n",
       "      <td>0</td>\n",
       "    </tr>\n",
       "    <tr>\n",
       "      <th>6</th>\n",
       "      <td>3</td>\n",
       "      <td>78</td>\n",
       "      <td>50</td>\n",
       "      <td>32</td>\n",
       "      <td>88</td>\n",
       "      <td>31.0</td>\n",
       "      <td>0.248</td>\n",
       "      <td>26</td>\n",
       "      <td>1</td>\n",
       "    </tr>\n",
       "    <tr>\n",
       "      <th>7</th>\n",
       "      <td>10</td>\n",
       "      <td>115</td>\n",
       "      <td>0</td>\n",
       "      <td>0</td>\n",
       "      <td>0</td>\n",
       "      <td>35.3</td>\n",
       "      <td>0.134</td>\n",
       "      <td>29</td>\n",
       "      <td>0</td>\n",
       "    </tr>\n",
       "    <tr>\n",
       "      <th>8</th>\n",
       "      <td>2</td>\n",
       "      <td>197</td>\n",
       "      <td>70</td>\n",
       "      <td>45</td>\n",
       "      <td>543</td>\n",
       "      <td>30.5</td>\n",
       "      <td>0.158</td>\n",
       "      <td>53</td>\n",
       "      <td>1</td>\n",
       "    </tr>\n",
       "    <tr>\n",
       "      <th>9</th>\n",
       "      <td>8</td>\n",
       "      <td>125</td>\n",
       "      <td>96</td>\n",
       "      <td>0</td>\n",
       "      <td>0</td>\n",
       "      <td>0.0</td>\n",
       "      <td>0.232</td>\n",
       "      <td>54</td>\n",
       "      <td>1</td>\n",
       "    </tr>\n",
       "  </tbody>\n",
       "</table>\n",
       "</div>"
      ],
      "text/plain": [
       "   Pregnancies  Glucose  BloodPressure  SkinThickness  Insulin   BMI  \\\n",
       "0            6      148             72             35        0  33.6   \n",
       "1            1       85             66             29        0  26.6   \n",
       "2            8      183             64              0        0  23.3   \n",
       "3            1       89             66             23       94  28.1   \n",
       "4            0      137             40             35      168  43.1   \n",
       "5            5      116             74              0        0  25.6   \n",
       "6            3       78             50             32       88  31.0   \n",
       "7           10      115              0              0        0  35.3   \n",
       "8            2      197             70             45      543  30.5   \n",
       "9            8      125             96              0        0   0.0   \n",
       "\n",
       "   DiabetesPedigreeFunction  Age  Outcome  \n",
       "0                     0.627   50        1  \n",
       "1                     0.351   31        0  \n",
       "2                     0.672   32        1  \n",
       "3                     0.167   21        0  \n",
       "4                     2.288   33        1  \n",
       "5                     0.201   30        0  \n",
       "6                     0.248   26        1  \n",
       "7                     0.134   29        0  \n",
       "8                     0.158   53        1  \n",
       "9                     0.232   54        1  "
      ]
     },
     "execution_count": 4,
     "metadata": {},
     "output_type": "execute_result"
    }
   ],
   "source": [
    "data.head(10)"
   ]
  },
  {
   "cell_type": "code",
   "execution_count": 5,
   "metadata": {
    "execution": {
     "iopub.execute_input": "2023-12-12T22:42:43.129924Z",
     "iopub.status.busy": "2023-12-12T22:42:43.128886Z",
     "iopub.status.idle": "2023-12-12T22:42:43.146960Z",
     "shell.execute_reply": "2023-12-12T22:42:43.145773Z",
     "shell.execute_reply.started": "2023-12-12T22:42:43.129880Z"
    }
   },
   "outputs": [
    {
     "name": "stdout",
     "output_type": "stream",
     "text": [
      "<class 'pandas.core.frame.DataFrame'>\n",
      "RangeIndex: 768 entries, 0 to 767\n",
      "Data columns (total 9 columns):\n",
      " #   Column                    Non-Null Count  Dtype  \n",
      "---  ------                    --------------  -----  \n",
      " 0   Pregnancies               768 non-null    int64  \n",
      " 1   Glucose                   768 non-null    int64  \n",
      " 2   BloodPressure             768 non-null    int64  \n",
      " 3   SkinThickness             768 non-null    int64  \n",
      " 4   Insulin                   768 non-null    int64  \n",
      " 5   BMI                       768 non-null    float64\n",
      " 6   DiabetesPedigreeFunction  768 non-null    float64\n",
      " 7   Age                       768 non-null    int64  \n",
      " 8   Outcome                   768 non-null    int64  \n",
      "dtypes: float64(2), int64(7)\n",
      "memory usage: 54.1 KB\n"
     ]
    }
   ],
   "source": [
    "data.info()"
   ]
  },
  {
   "cell_type": "code",
   "execution_count": 6,
   "metadata": {
    "execution": {
     "iopub.execute_input": "2023-12-12T22:42:43.149777Z",
     "iopub.status.busy": "2023-12-12T22:42:43.149316Z",
     "iopub.status.idle": "2023-12-12T22:42:43.161030Z",
     "shell.execute_reply": "2023-12-12T22:42:43.159714Z",
     "shell.execute_reply.started": "2023-12-12T22:42:43.149733Z"
    }
   },
   "outputs": [
    {
     "data": {
      "text/plain": [
       "Pregnancies                 0\n",
       "Glucose                     0\n",
       "BloodPressure               0\n",
       "SkinThickness               0\n",
       "Insulin                     0\n",
       "BMI                         0\n",
       "DiabetesPedigreeFunction    0\n",
       "Age                         0\n",
       "Outcome                     0\n",
       "dtype: int64"
      ]
     },
     "execution_count": 6,
     "metadata": {},
     "output_type": "execute_result"
    }
   ],
   "source": [
    "data.isna().sum()"
   ]
  },
  {
   "cell_type": "code",
   "execution_count": 7,
   "metadata": {
    "execution": {
     "iopub.execute_input": "2023-12-12T22:42:43.163802Z",
     "iopub.status.busy": "2023-12-12T22:42:43.163123Z",
     "iopub.status.idle": "2023-12-12T22:42:43.209218Z",
     "shell.execute_reply": "2023-12-12T22:42:43.208153Z",
     "shell.execute_reply.started": "2023-12-12T22:42:43.163760Z"
    }
   },
   "outputs": [
    {
     "data": {
      "text/html": [
       "<div>\n",
       "<style scoped>\n",
       "    .dataframe tbody tr th:only-of-type {\n",
       "        vertical-align: middle;\n",
       "    }\n",
       "\n",
       "    .dataframe tbody tr th {\n",
       "        vertical-align: top;\n",
       "    }\n",
       "\n",
       "    .dataframe thead th {\n",
       "        text-align: right;\n",
       "    }\n",
       "</style>\n",
       "<table border=\"1\" class=\"dataframe\">\n",
       "  <thead>\n",
       "    <tr style=\"text-align: right;\">\n",
       "      <th></th>\n",
       "      <th>Pregnancies</th>\n",
       "      <th>Glucose</th>\n",
       "      <th>BloodPressure</th>\n",
       "      <th>SkinThickness</th>\n",
       "      <th>Insulin</th>\n",
       "      <th>BMI</th>\n",
       "      <th>DiabetesPedigreeFunction</th>\n",
       "      <th>Age</th>\n",
       "      <th>Outcome</th>\n",
       "    </tr>\n",
       "  </thead>\n",
       "  <tbody>\n",
       "    <tr>\n",
       "      <th>count</th>\n",
       "      <td>768.000000</td>\n",
       "      <td>768.000000</td>\n",
       "      <td>768.000000</td>\n",
       "      <td>768.000000</td>\n",
       "      <td>768.000000</td>\n",
       "      <td>768.000000</td>\n",
       "      <td>768.000000</td>\n",
       "      <td>768.000000</td>\n",
       "      <td>768.000000</td>\n",
       "    </tr>\n",
       "    <tr>\n",
       "      <th>mean</th>\n",
       "      <td>3.845052</td>\n",
       "      <td>120.894531</td>\n",
       "      <td>69.105469</td>\n",
       "      <td>20.536458</td>\n",
       "      <td>79.799479</td>\n",
       "      <td>31.992578</td>\n",
       "      <td>0.471876</td>\n",
       "      <td>33.240885</td>\n",
       "      <td>0.348958</td>\n",
       "    </tr>\n",
       "    <tr>\n",
       "      <th>std</th>\n",
       "      <td>3.369578</td>\n",
       "      <td>31.972618</td>\n",
       "      <td>19.355807</td>\n",
       "      <td>15.952218</td>\n",
       "      <td>115.244002</td>\n",
       "      <td>7.884160</td>\n",
       "      <td>0.331329</td>\n",
       "      <td>11.760232</td>\n",
       "      <td>0.476951</td>\n",
       "    </tr>\n",
       "    <tr>\n",
       "      <th>min</th>\n",
       "      <td>0.000000</td>\n",
       "      <td>0.000000</td>\n",
       "      <td>0.000000</td>\n",
       "      <td>0.000000</td>\n",
       "      <td>0.000000</td>\n",
       "      <td>0.000000</td>\n",
       "      <td>0.078000</td>\n",
       "      <td>21.000000</td>\n",
       "      <td>0.000000</td>\n",
       "    </tr>\n",
       "    <tr>\n",
       "      <th>25%</th>\n",
       "      <td>1.000000</td>\n",
       "      <td>99.000000</td>\n",
       "      <td>62.000000</td>\n",
       "      <td>0.000000</td>\n",
       "      <td>0.000000</td>\n",
       "      <td>27.300000</td>\n",
       "      <td>0.243750</td>\n",
       "      <td>24.000000</td>\n",
       "      <td>0.000000</td>\n",
       "    </tr>\n",
       "    <tr>\n",
       "      <th>50%</th>\n",
       "      <td>3.000000</td>\n",
       "      <td>117.000000</td>\n",
       "      <td>72.000000</td>\n",
       "      <td>23.000000</td>\n",
       "      <td>30.500000</td>\n",
       "      <td>32.000000</td>\n",
       "      <td>0.372500</td>\n",
       "      <td>29.000000</td>\n",
       "      <td>0.000000</td>\n",
       "    </tr>\n",
       "    <tr>\n",
       "      <th>75%</th>\n",
       "      <td>6.000000</td>\n",
       "      <td>140.250000</td>\n",
       "      <td>80.000000</td>\n",
       "      <td>32.000000</td>\n",
       "      <td>127.250000</td>\n",
       "      <td>36.600000</td>\n",
       "      <td>0.626250</td>\n",
       "      <td>41.000000</td>\n",
       "      <td>1.000000</td>\n",
       "    </tr>\n",
       "    <tr>\n",
       "      <th>max</th>\n",
       "      <td>17.000000</td>\n",
       "      <td>199.000000</td>\n",
       "      <td>122.000000</td>\n",
       "      <td>99.000000</td>\n",
       "      <td>846.000000</td>\n",
       "      <td>67.100000</td>\n",
       "      <td>2.420000</td>\n",
       "      <td>81.000000</td>\n",
       "      <td>1.000000</td>\n",
       "    </tr>\n",
       "  </tbody>\n",
       "</table>\n",
       "</div>"
      ],
      "text/plain": [
       "       Pregnancies     Glucose  BloodPressure  SkinThickness     Insulin  \\\n",
       "count   768.000000  768.000000     768.000000     768.000000  768.000000   \n",
       "mean      3.845052  120.894531      69.105469      20.536458   79.799479   \n",
       "std       3.369578   31.972618      19.355807      15.952218  115.244002   \n",
       "min       0.000000    0.000000       0.000000       0.000000    0.000000   \n",
       "25%       1.000000   99.000000      62.000000       0.000000    0.000000   \n",
       "50%       3.000000  117.000000      72.000000      23.000000   30.500000   \n",
       "75%       6.000000  140.250000      80.000000      32.000000  127.250000   \n",
       "max      17.000000  199.000000     122.000000      99.000000  846.000000   \n",
       "\n",
       "              BMI  DiabetesPedigreeFunction         Age     Outcome  \n",
       "count  768.000000                768.000000  768.000000  768.000000  \n",
       "mean    31.992578                  0.471876   33.240885    0.348958  \n",
       "std      7.884160                  0.331329   11.760232    0.476951  \n",
       "min      0.000000                  0.078000   21.000000    0.000000  \n",
       "25%     27.300000                  0.243750   24.000000    0.000000  \n",
       "50%     32.000000                  0.372500   29.000000    0.000000  \n",
       "75%     36.600000                  0.626250   41.000000    1.000000  \n",
       "max     67.100000                  2.420000   81.000000    1.000000  "
      ]
     },
     "execution_count": 7,
     "metadata": {},
     "output_type": "execute_result"
    }
   ],
   "source": [
    "data.describe()"
   ]
  },
  {
   "cell_type": "code",
   "execution_count": 8,
   "metadata": {
    "execution": {
     "iopub.execute_input": "2023-12-12T22:42:43.211716Z",
     "iopub.status.busy": "2023-12-12T22:42:43.211346Z",
     "iopub.status.idle": "2023-12-12T22:42:43.217676Z",
     "shell.execute_reply": "2023-12-12T22:42:43.216333Z",
     "shell.execute_reply.started": "2023-12-12T22:42:43.211683Z"
    }
   },
   "outputs": [],
   "source": [
    "data_using = data.copy()"
   ]
  },
  {
   "cell_type": "code",
   "execution_count": 9,
   "metadata": {
    "execution": {
     "iopub.execute_input": "2023-12-12T22:42:43.219711Z",
     "iopub.status.busy": "2023-12-12T22:42:43.219242Z",
     "iopub.status.idle": "2023-12-12T22:42:43.435718Z",
     "shell.execute_reply": "2023-12-12T22:42:43.434583Z",
     "shell.execute_reply.started": "2023-12-12T22:42:43.219666Z"
    }
   },
   "outputs": [
    {
     "data": {
      "image/png": "[encoded data removed]",
      "text/plain": [
       "<Figure size 432x288 with 1 Axes>"
      ]
     },
     "metadata": {
      "needs_background": "light"
     },
     "output_type": "display_data"
    }
   ],
   "source": [
    "sns.countplot(data=data_using,x = \"Outcome\")\n",
    "plt.show()"
   ]
  },
  {
   "cell_type": "code",
   "execution_count": 10,
   "metadata": {
    "execution": {
     "iopub.execute_input": "2023-12-12T22:42:43.438955Z",
     "iopub.status.busy": "2023-12-12T22:42:43.438529Z",
     "iopub.status.idle": "2023-12-12T22:42:43.459309Z",
     "shell.execute_reply": "2023-12-12T22:42:43.458103Z",
     "shell.execute_reply.started": "2023-12-12T22:42:43.438923Z"
    }
   },
   "outputs": [
    {
     "data": {
      "text/html": [
       "<div>\n",
       "<style scoped>\n",
       "    .dataframe tbody tr th:only-of-type {\n",
       "        vertical-align: middle;\n",
       "    }\n",
       "\n",
       "    .dataframe tbody tr th {\n",
       "        vertical-align: top;\n",
       "    }\n",
       "\n",
       "    .dataframe thead th {\n",
       "        text-align: right;\n",
       "    }\n",
       "</style>\n",
       "<table border=\"1\" class=\"dataframe\">\n",
       "  <thead>\n",
       "    <tr style=\"text-align: right;\">\n",
       "      <th></th>\n",
       "      <th>Pregnancies</th>\n",
       "      <th>Glucose</th>\n",
       "      <th>BloodPressure</th>\n",
       "      <th>SkinThickness</th>\n",
       "      <th>Insulin</th>\n",
       "      <th>BMI</th>\n",
       "      <th>DiabetesPedigreeFunction</th>\n",
       "      <th>Age</th>\n",
       "      <th>Outcome</th>\n",
       "    </tr>\n",
       "  </thead>\n",
       "  <tbody>\n",
       "    <tr>\n",
       "      <th>Pregnancies</th>\n",
       "      <td>1.000000</td>\n",
       "      <td>0.129459</td>\n",
       "      <td>0.141282</td>\n",
       "      <td>-0.081672</td>\n",
       "      <td>-0.073535</td>\n",
       "      <td>0.017683</td>\n",
       "      <td>-0.033523</td>\n",
       "      <td>0.544341</td>\n",
       "      <td>0.221898</td>\n",
       "    </tr>\n",
       "    <tr>\n",
       "      <th>Glucose</th>\n",
       "      <td>0.129459</td>\n",
       "      <td>1.000000</td>\n",
       "      <td>0.152590</td>\n",
       "      <td>0.057328</td>\n",
       "      <td>0.331357</td>\n",
       "      <td>0.221071</td>\n",
       "      <td>0.137337</td>\n",
       "      <td>0.263514</td>\n",
       "      <td>0.466581</td>\n",
       "    </tr>\n",
       "    <tr>\n",
       "      <th>BloodPressure</th>\n",
       "      <td>0.141282</td>\n",
       "      <td>0.152590</td>\n",
       "      <td>1.000000</td>\n",
       "      <td>0.207371</td>\n",
       "      <td>0.088933</td>\n",
       "      <td>0.281805</td>\n",
       "      <td>0.041265</td>\n",
       "      <td>0.239528</td>\n",
       "      <td>0.065068</td>\n",
       "    </tr>\n",
       "    <tr>\n",
       "      <th>SkinThickness</th>\n",
       "      <td>-0.081672</td>\n",
       "      <td>0.057328</td>\n",
       "      <td>0.207371</td>\n",
       "      <td>1.000000</td>\n",
       "      <td>0.436783</td>\n",
       "      <td>0.392573</td>\n",
       "      <td>0.183928</td>\n",
       "      <td>-0.113970</td>\n",
       "      <td>0.074752</td>\n",
       "    </tr>\n",
       "    <tr>\n",
       "      <th>Insulin</th>\n",
       "      <td>-0.073535</td>\n",
       "      <td>0.331357</td>\n",
       "      <td>0.088933</td>\n",
       "      <td>0.436783</td>\n",
       "      <td>1.000000</td>\n",
       "      <td>0.197859</td>\n",
       "      <td>0.185071</td>\n",
       "      <td>-0.042163</td>\n",
       "      <td>0.130548</td>\n",
       "    </tr>\n",
       "    <tr>\n",
       "      <th>BMI</th>\n",
       "      <td>0.017683</td>\n",
       "      <td>0.221071</td>\n",
       "      <td>0.281805</td>\n",
       "      <td>0.392573</td>\n",
       "      <td>0.197859</td>\n",
       "      <td>1.000000</td>\n",
       "      <td>0.140647</td>\n",
       "      <td>0.036242</td>\n",
       "      <td>0.292695</td>\n",
       "    </tr>\n",
       "    <tr>\n",
       "      <th>DiabetesPedigreeFunction</th>\n",
       "      <td>-0.033523</td>\n",
       "      <td>0.137337</td>\n",
       "      <td>0.041265</td>\n",
       "      <td>0.183928</td>\n",
       "      <td>0.185071</td>\n",
       "      <td>0.140647</td>\n",
       "      <td>1.000000</td>\n",
       "      <td>0.033561</td>\n",
       "      <td>0.173844</td>\n",
       "    </tr>\n",
       "    <tr>\n",
       "      <th>Age</th>\n",
       "      <td>0.544341</td>\n",
       "      <td>0.263514</td>\n",
       "      <td>0.239528</td>\n",
       "      <td>-0.113970</td>\n",
       "      <td>-0.042163</td>\n",
       "      <td>0.036242</td>\n",
       "      <td>0.033561</td>\n",
       "      <td>1.000000</td>\n",
       "      <td>0.238356</td>\n",
       "    </tr>\n",
       "    <tr>\n",
       "      <th>Outcome</th>\n",
       "      <td>0.221898</td>\n",
       "      <td>0.466581</td>\n",
       "      <td>0.065068</td>\n",
       "      <td>0.074752</td>\n",
       "      <td>0.130548</td>\n",
       "      <td>0.292695</td>\n",
       "      <td>0.173844</td>\n",
       "      <td>0.238356</td>\n",
       "      <td>1.000000</td>\n",
       "    </tr>\n",
       "  </tbody>\n",
       "</table>\n",
       "</div>"
      ],
      "text/plain": [
       "                          Pregnancies   Glucose  BloodPressure  SkinThickness  \\\n",
       "Pregnancies                  1.000000  0.129459       0.141282      -0.081672   \n",
       "Glucose                      0.129459  1.000000       0.152590       0.057328   \n",
       "BloodPressure                0.141282  0.152590       1.000000       0.207371   \n",
       "SkinThickness               -0.081672  0.057328       0.207371       1.000000   \n",
       "Insulin                     -0.073535  0.331357       0.088933       0.436783   \n",
       "BMI                          0.017683  0.221071       0.281805       0.392573   \n",
       "DiabetesPedigreeFunction    -0.033523  0.137337       0.041265       0.183928   \n",
       "Age                          0.544341  0.263514       0.239528      -0.113970   \n",
       "Outcome                      0.221898  0.466581       0.065068       0.074752   \n",
       "\n",
       "                           Insulin       BMI  DiabetesPedigreeFunction  \\\n",
       "Pregnancies              -0.073535  0.017683                 -0.033523   \n",
       "Glucose                   0.331357  0.221071                  0.137337   \n",
       "BloodPressure             0.088933  0.281805                  0.041265   \n",
       "SkinThickness             0.436783  0.392573                  0.183928   \n",
       "Insulin                   1.000000  0.197859                  0.185071   \n",
       "BMI                       0.197859  1.000000                  0.140647   \n",
       "DiabetesPedigreeFunction  0.185071  0.140647                  1.000000   \n",
       "Age                      -0.042163  0.036242                  0.033561   \n",
       "Outcome                   0.130548  0.292695                  0.173844   \n",
       "\n",
       "                               Age   Outcome  \n",
       "Pregnancies               0.544341  0.221898  \n",
       "Glucose                   0.263514  0.466581  \n",
       "BloodPressure             0.239528  0.065068  \n",
       "SkinThickness            -0.113970  0.074752  \n",
       "Insulin                  -0.042163  0.130548  \n",
       "BMI                       0.036242  0.292695  \n",
       "DiabetesPedigreeFunction  0.033561  0.173844  \n",
       "Age                       1.000000  0.238356  \n",
       "Outcome                   0.238356  1.000000  "
      ]
     },
     "execution_count": 10,
     "metadata": {},
     "output_type": "execute_result"
    }
   ],
   "source": [
    "data_using.corr()"
   ]
  },
  {
   "cell_type": "code",
   "execution_count": 11,
   "metadata": {
    "execution": {
     "iopub.execute_input": "2023-12-12T22:42:43.460767Z",
     "iopub.status.busy": "2023-12-12T22:42:43.460434Z",
     "iopub.status.idle": "2023-12-12T22:42:43.918884Z",
     "shell.execute_reply": "2023-12-12T22:42:43.917851Z",
     "shell.execute_reply.started": "2023-12-12T22:42:43.460738Z"
    }
   },
   "outputs": [
    {
     "data": {
      "text/plain": [
       "<AxesSubplot:>"
      ]
     },
     "execution_count": 11,
     "metadata": {},
     "output_type": "execute_result"
    },
    {
     "data": {
      "image/png": "[encoded data removed]",
      "text/plain": [
       "<Figure size 432x288 with 2 Axes>"
      ]
     },
     "metadata": {
      "needs_background": "light"
     },
     "output_type": "display_data"
    }
   ],
   "source": [
    "sns.heatmap(data_using.corr())"
   ]
  },
  {
   "cell_type": "code",
   "execution_count": 12,
   "metadata": {
    "execution": {
     "iopub.execute_input": "2023-12-12T22:42:43.921218Z",
     "iopub.status.busy": "2023-12-12T22:42:43.920742Z",
     "iopub.status.idle": "2023-12-12T22:42:44.380428Z",
     "shell.execute_reply": "2023-12-12T22:42:44.379115Z",
     "shell.execute_reply.started": "2023-12-12T22:42:43.921175Z"
    }
   },
   "outputs": [
    {
     "data": {
      "text/plain": [
       "<seaborn.axisgrid.FacetGrid at 0x7f8f69cbad90>"
      ]
     },
     "execution_count": 12,
     "metadata": {},
     "output_type": "execute_result"
    },
    {
     "data": {
      "image/png": "[encoded data removed]",
      "text/plain": [
       "<Figure size 360x360 with 1 Axes>"
      ]
     },
     "metadata": {
      "needs_background": "light"
     },
     "output_type": "display_data"
    }
   ],
   "source": [
    "sns.displot(data_using[\"Age\"],bins = 20,kde = True)"
   ]
  },
  {
   "cell_type": "markdown",
   "metadata": {},
   "source": [
    "## Features scaling"
   ]
  },
  {
   "cell_type": "code",
   "execution_count": 13,
   "metadata": {
    "execution": {
     "iopub.execute_input": "2023-12-12T22:42:44.383447Z",
     "iopub.status.busy": "2023-12-12T22:42:44.382209Z",
     "iopub.status.idle": "2023-12-12T22:42:44.391354Z",
     "shell.execute_reply": "2023-12-12T22:42:44.390210Z",
     "shell.execute_reply.started": "2023-12-12T22:42:44.383401Z"
    }
   },
   "outputs": [
    {
     "data": {
      "text/plain": [
       "Index(['Pregnancies', 'Glucose', 'BloodPressure', 'SkinThickness', 'Insulin',\n",
       "       'BMI', 'DiabetesPedigreeFunction', 'Age', 'Outcome'],\n",
       "      dtype='object')"
      ]
     },
     "execution_count": 13,
     "metadata": {},
     "output_type": "execute_result"
    }
   ],
   "source": [
    "data_using.columns"
   ]
  },
  {
   "cell_type": "code",
   "execution_count": 14,
   "metadata": {
    "execution": {
     "iopub.execute_input": "2023-12-12T22:42:44.394100Z",
     "iopub.status.busy": "2023-12-12T22:42:44.393290Z",
     "iopub.status.idle": "2023-12-12T22:42:44.408246Z",
     "shell.execute_reply": "2023-12-12T22:42:44.407244Z",
     "shell.execute_reply.started": "2023-12-12T22:42:44.394031Z"
    }
   },
   "outputs": [],
   "source": [
    "data_using[\"Pregnancies\"] = data_using[\"Pregnancies\"] / data_using[\"Pregnancies\"].max()\n",
    "data_using[\"Glucose\"] = data_using[\"Glucose\"] / data_using[\"Glucose\"].max()\n",
    "data_using[\"BloodPressure\"] = data_using[\"BloodPressure\"] / data_using[\"BloodPressure\"].max()\n",
    "data_using[\"SkinThickness\"] = data_using[\"SkinThickness\"] / data_using[\"SkinThickness\"].max()\n",
    "data_using[\"Insulin\"] = data_using[\"Insulin\"] / data_using[\"Insulin\"].max()\n",
    "data_using[\"Age\"] = data_using[\"Age\"] / data_using[\"Age\"].max()"
   ]
  },
  {
   "cell_type": "code",
   "execution_count": 15,
   "metadata": {
    "execution": {
     "iopub.execute_input": "2023-12-12T22:42:44.410807Z",
     "iopub.status.busy": "2023-12-12T22:42:44.409654Z",
     "iopub.status.idle": "2023-12-12T22:42:44.434091Z",
     "shell.execute_reply": "2023-12-12T22:42:44.432943Z",
     "shell.execute_reply.started": "2023-12-12T22:42:44.410770Z"
    }
   },
   "outputs": [
    {
     "data": {
      "text/html": [
       "<div>\n",
       "<style scoped>\n",
       "    .dataframe tbody tr th:only-of-type {\n",
       "        vertical-align: middle;\n",
       "    }\n",
       "\n",
       "    .dataframe tbody tr th {\n",
       "        vertical-align: top;\n",
       "    }\n",
       "\n",
       "    .dataframe thead th {\n",
       "        text-align: right;\n",
       "    }\n",
       "</style>\n",
       "<table border=\"1\" class=\"dataframe\">\n",
       "  <thead>\n",
       "    <tr style=\"text-align: right;\">\n",
       "      <th></th>\n",
       "      <th>Pregnancies</th>\n",
       "      <th>Glucose</th>\n",
       "      <th>BloodPressure</th>\n",
       "      <th>SkinThickness</th>\n",
       "      <th>Insulin</th>\n",
       "      <th>BMI</th>\n",
       "      <th>DiabetesPedigreeFunction</th>\n",
       "      <th>Age</th>\n",
       "    </tr>\n",
       "  </thead>\n",
       "  <tbody>\n",
       "    <tr>\n",
       "      <th>0</th>\n",
       "      <td>0.352941</td>\n",
       "      <td>0.743719</td>\n",
       "      <td>0.590164</td>\n",
       "      <td>0.353535</td>\n",
       "      <td>0.000000</td>\n",
       "      <td>33.6</td>\n",
       "      <td>0.627</td>\n",
       "      <td>0.617284</td>\n",
       "    </tr>\n",
       "    <tr>\n",
       "      <th>1</th>\n",
       "      <td>0.058824</td>\n",
       "      <td>0.427136</td>\n",
       "      <td>0.540984</td>\n",
       "      <td>0.292929</td>\n",
       "      <td>0.000000</td>\n",
       "      <td>26.6</td>\n",
       "      <td>0.351</td>\n",
       "      <td>0.382716</td>\n",
       "    </tr>\n",
       "    <tr>\n",
       "      <th>2</th>\n",
       "      <td>0.470588</td>\n",
       "      <td>0.919598</td>\n",
       "      <td>0.524590</td>\n",
       "      <td>0.000000</td>\n",
       "      <td>0.000000</td>\n",
       "      <td>23.3</td>\n",
       "      <td>0.672</td>\n",
       "      <td>0.395062</td>\n",
       "    </tr>\n",
       "    <tr>\n",
       "      <th>3</th>\n",
       "      <td>0.058824</td>\n",
       "      <td>0.447236</td>\n",
       "      <td>0.540984</td>\n",
       "      <td>0.232323</td>\n",
       "      <td>0.111111</td>\n",
       "      <td>28.1</td>\n",
       "      <td>0.167</td>\n",
       "      <td>0.259259</td>\n",
       "    </tr>\n",
       "    <tr>\n",
       "      <th>4</th>\n",
       "      <td>0.000000</td>\n",
       "      <td>0.688442</td>\n",
       "      <td>0.327869</td>\n",
       "      <td>0.353535</td>\n",
       "      <td>0.198582</td>\n",
       "      <td>43.1</td>\n",
       "      <td>2.288</td>\n",
       "      <td>0.407407</td>\n",
       "    </tr>\n",
       "  </tbody>\n",
       "</table>\n",
       "</div>"
      ],
      "text/plain": [
       "   Pregnancies   Glucose  BloodPressure  SkinThickness   Insulin   BMI  \\\n",
       "0     0.352941  0.743719       0.590164       0.353535  0.000000  33.6   \n",
       "1     0.058824  0.427136       0.540984       0.292929  0.000000  26.6   \n",
       "2     0.470588  0.919598       0.524590       0.000000  0.000000  23.3   \n",
       "3     0.058824  0.447236       0.540984       0.232323  0.111111  28.1   \n",
       "4     0.000000  0.688442       0.327869       0.353535  0.198582  43.1   \n",
       "\n",
       "   DiabetesPedigreeFunction       Age  \n",
       "0                     0.627  0.617284  \n",
       "1                     0.351  0.382716  \n",
       "2                     0.672  0.395062  \n",
       "3                     0.167  0.259259  \n",
       "4                     2.288  0.407407  "
      ]
     },
     "execution_count": 15,
     "metadata": {},
     "output_type": "execute_result"
    }
   ],
   "source": [
    "x = data_using.drop(columns=[\"Outcome\"])\n",
    "x.head()"
   ]
  },
  {
   "cell_type": "code",
   "execution_count": 16,
   "metadata": {
    "execution": {
     "iopub.execute_input": "2023-12-12T22:42:44.439110Z",
     "iopub.status.busy": "2023-12-12T22:42:44.438716Z",
     "iopub.status.idle": "2023-12-12T22:42:44.448621Z",
     "shell.execute_reply": "2023-12-12T22:42:44.447474Z",
     "shell.execute_reply.started": "2023-12-12T22:42:44.439066Z"
    }
   },
   "outputs": [
    {
     "data": {
      "text/plain": [
       "0    1\n",
       "1    0\n",
       "2    1\n",
       "3    0\n",
       "4    1\n",
       "Name: Outcome, dtype: int64"
      ]
     },
     "execution_count": 16,
     "metadata": {},
     "output_type": "execute_result"
    }
   ],
   "source": [
    "y = data_using[\"Outcome\"]\n",
    "y.head()"
   ]
  },
  {
   "cell_type": "code",
   "execution_count": 17,
   "metadata": {
    "execution": {
     "iopub.execute_input": "2023-12-12T22:42:44.453025Z",
     "iopub.status.busy": "2023-12-12T22:42:44.452678Z",
     "iopub.status.idle": "2023-12-12T22:42:44.459220Z",
     "shell.execute_reply": "2023-12-12T22:42:44.457976Z",
     "shell.execute_reply.started": "2023-12-12T22:42:44.452996Z"
    }
   },
   "outputs": [],
   "source": [
    "x = x.to_numpy()\n",
    "x_train = x[:600,:]\n",
    "x_test = x[600:,:]"
   ]
  },
  {
   "cell_type": "code",
   "execution_count": 18,
   "metadata": {
    "execution": {
     "iopub.execute_input": "2023-12-12T22:42:44.461019Z",
     "iopub.status.busy": "2023-12-12T22:42:44.460635Z",
     "iopub.status.idle": "2023-12-12T22:42:44.474121Z",
     "shell.execute_reply": "2023-12-12T22:42:44.472907Z",
     "shell.execute_reply.started": "2023-12-12T22:42:44.460989Z"
    }
   },
   "outputs": [],
   "source": [
    "y = y.to_numpy()\n",
    "y_train = y[:600]\n",
    "y_test = y[600:]"
   ]
  },
  {
   "cell_type": "code",
   "execution_count": 19,
   "metadata": {
    "execution": {
     "iopub.execute_input": "2023-12-12T22:42:44.476281Z",
     "iopub.status.busy": "2023-12-12T22:42:44.475587Z",
     "iopub.status.idle": "2023-12-12T22:42:44.485728Z",
     "shell.execute_reply": "2023-12-12T22:42:44.484738Z",
     "shell.execute_reply.started": "2023-12-12T22:42:44.476238Z"
    }
   },
   "outputs": [],
   "source": [
    "def sigmoid(x,w,b):\n",
    "    z = np.dot(x,w) + b\n",
    "    res = 1 / (1 + np.exp(-z))\n",
    "    return res"
   ]
  },
  {
   "cell_type": "code",
   "execution_count": 20,
   "metadata": {
    "execution": {
     "iopub.execute_input": "2023-12-12T22:42:44.487020Z",
     "iopub.status.busy": "2023-12-12T22:42:44.486684Z",
     "iopub.status.idle": "2023-12-12T22:42:44.497991Z",
     "shell.execute_reply": "2023-12-12T22:42:44.496960Z",
     "shell.execute_reply.started": "2023-12-12T22:42:44.486983Z"
    }
   },
   "outputs": [],
   "source": [
    "def loss_func(x,w,b,y):\n",
    "    res = -y*np.log(sigmoid(x,w,b)) - (1-y)*np.log(1-sigmoid(x,w,b))\n",
    "    return res"
   ]
  },
  {
   "cell_type": "code",
   "execution_count": 21,
   "metadata": {
    "execution": {
     "iopub.execute_input": "2023-12-12T22:42:44.499393Z",
     "iopub.status.busy": "2023-12-12T22:42:44.498993Z",
     "iopub.status.idle": "2023-12-12T22:42:44.509788Z",
     "shell.execute_reply": "2023-12-12T22:42:44.508855Z",
     "shell.execute_reply.started": "2023-12-12T22:42:44.499362Z"
    }
   },
   "outputs": [],
   "source": [
    "def cost_func(x,w,b,y):\n",
    "    m = x.shape[0]\n",
    "    total = 0\n",
    "    for i in range(m):\n",
    "        total += loss_func(x[i],w,b,y[i])\n",
    "    return total / m"
   ]
  },
  {
   "cell_type": "code",
   "execution_count": 22,
   "metadata": {
    "execution": {
     "iopub.execute_input": "2023-12-12T22:42:44.511138Z",
     "iopub.status.busy": "2023-12-12T22:42:44.510805Z",
     "iopub.status.idle": "2023-12-12T22:42:44.534375Z",
     "shell.execute_reply": "2023-12-12T22:42:44.533107Z",
     "shell.execute_reply.started": "2023-12-12T22:42:44.511109Z"
    }
   },
   "outputs": [
    {
     "name": "stdout",
     "output_type": "stream",
     "text": [
      "0.6931471805599468\n"
     ]
    }
   ],
   "source": [
    "w = np.zeros(x.shape[1],)\n",
    "b= 0\n",
    "print(cost_func(x_train,w,b,y_train))"
   ]
  },
  {
   "cell_type": "code",
   "execution_count": 23,
   "metadata": {
    "execution": {
     "iopub.execute_input": "2023-12-12T22:42:44.536763Z",
     "iopub.status.busy": "2023-12-12T22:42:44.535961Z",
     "iopub.status.idle": "2023-12-12T22:42:44.544809Z",
     "shell.execute_reply": "2023-12-12T22:42:44.543277Z",
     "shell.execute_reply.started": "2023-12-12T22:42:44.536719Z"
    }
   },
   "outputs": [],
   "source": [
    "def gradient_func(x,w,b,y):\n",
    "    m,n = x.shape\n",
    "    dj_dw = np.zeros(n,)\n",
    "    dj_db = 0\n",
    "    for i in range(m):\n",
    "        fi = sigmoid(x[i,:],w,b)\n",
    "        err = fi - y[i]\n",
    "        for j in range(n):\n",
    "            dj_dw[j] += err * x[i,j]\n",
    "        dj_db += err\n",
    "    dj_dw /= m\n",
    "    dj_db /= m\n",
    "    return dj_dw, dj_db\n",
    "    "
   ]
  },
  {
   "cell_type": "code",
   "execution_count": 24,
   "metadata": {
    "execution": {
     "iopub.execute_input": "2023-12-12T22:42:44.546815Z",
     "iopub.status.busy": "2023-12-12T22:42:44.546423Z",
     "iopub.status.idle": "2023-12-12T22:42:44.572308Z",
     "shell.execute_reply": "2023-12-12T22:42:44.571094Z",
     "shell.execute_reply.started": "2023-12-12T22:42:44.546783Z"
    }
   },
   "outputs": [
    {
     "name": "stdout",
     "output_type": "stream",
     "text": [
      "dj_dw init: [0.01490196 0.05745812 0.08157787 0.02601852 0.0048946  3.68566667\n",
      " 0.044615   0.0483642 ]\n",
      "dj_db init: 0.15333333333333332\n"
     ]
    }
   ],
   "source": [
    "w = np.zeros(x.shape[1],)\n",
    "b= 0\n",
    "tmp_dj_dw , tmp_dj_db = gradient_func(x_train,w,b,y_train)\n",
    "print(f\"dj_dw init: {tmp_dj_dw}\")\n",
    "print(f\"dj_db init: {tmp_dj_db}\")"
   ]
  },
  {
   "cell_type": "code",
   "execution_count": 25,
   "metadata": {
    "execution": {
     "iopub.execute_input": "2023-12-12T22:42:44.574095Z",
     "iopub.status.busy": "2023-12-12T22:42:44.573764Z",
     "iopub.status.idle": "2023-12-12T22:42:44.585630Z",
     "shell.execute_reply": "2023-12-12T22:42:44.584499Z",
     "shell.execute_reply.started": "2023-12-12T22:42:44.574067Z"
    }
   },
   "outputs": [],
   "source": [
    "def gradient_descent(x,y,w_init,b_init,alpha,num_iter):\n",
    "    w = w_init\n",
    "    b = b_init\n",
    "    \n",
    "    for i in range(num_iter):\n",
    "        dj_dw, dj_db = gradient_func(x,w,b,y)\n",
    "        w -= alpha * dj_dw\n",
    "        b -= alpha * dj_db\n",
    "        if i % 100 == 0:\n",
    "            print(f\"Iteration {i} / Cost function J = {cost_func(x,w,b,y)}\")\n",
    "            print(f\"w = {w}\")\n",
    "            print(f\"b = {b}\")\n",
    "    return w,b"
   ]
  },
  {
   "cell_type": "code",
   "execution_count": 26,
   "metadata": {
    "execution": {
     "iopub.execute_input": "2023-12-12T22:42:44.586941Z",
     "iopub.status.busy": "2023-12-12T22:42:44.586624Z",
     "iopub.status.idle": "2023-12-12T22:44:16.582485Z",
     "shell.execute_reply": "2023-12-12T22:44:16.581482Z",
     "shell.execute_reply.started": "2023-12-12T22:42:44.586913Z"
    }
   },
   "outputs": [
    {
     "name": "stdout",
     "output_type": "stream",
     "text": [
      "Iteration 0 / Cost function J = 0.6904964343945037\n",
      "w = [-2.98039216e-06 -1.14916248e-05 -1.63155738e-05 -5.20370370e-06\n",
      " -9.78920410e-07 -7.37133333e-04 -8.92300000e-06 -9.67283951e-06]\n",
      "b = -3.066666666666667e-05\n",
      "Iteration 100 / Cost function J = 0.6677049213900944\n",
      "w = [ 1.04727838e-04 -6.36476188e-05 -6.20341946e-04 -1.26879558e-04\n",
      "  8.06276382e-05 -1.37968745e-02 -2.06854388e-05 -2.37810773e-04]\n",
      "b = -0.0013059099277344768\n",
      "Iteration 200 / Cost function J = 0.6676513779139329\n",
      "w = [ 0.00029974  0.00012008 -0.00100337 -0.00016301  0.00020075 -0.01383745\n",
      "  0.00015672 -0.00030691]\n",
      "b = -0.002195690587012186\n",
      "Iteration 300 / Cost function J = 0.667598437049731\n",
      "w = [ 0.00049521  0.00030509 -0.00138512 -0.00019871  0.00032104 -0.01381156\n",
      "  0.00033507 -0.0003751 ]\n",
      "b = -0.0030832510130916124\n",
      "Iteration 400 / Cost function J = 0.6675455227907381\n",
      "w = [ 0.00069072  0.0004902  -0.00176674 -0.00023442  0.00044131 -0.01378533\n",
      "  0.00051339 -0.0004432 ]\n",
      "b = -0.003970551686556191\n",
      "Iteration 500 / Cost function J = 0.6674926351014058\n",
      "w = [ 0.00088624  0.00067539 -0.00214822 -0.00027014  0.00056157 -0.0137591\n",
      "  0.0006917  -0.00051121]\n",
      "b = -0.0048576032441866295\n",
      "Iteration 600 / Cost function J = 0.66743977396283\n",
      "w = [ 0.00108179  0.00086066 -0.00252956 -0.00030587  0.0006818  -0.01373289\n",
      "  0.00086998 -0.00057913]\n",
      "b = -0.005744405842923893\n",
      "Iteration 700 / Cost function J = 0.6673869393561217\n",
      "w = [ 0.00127736  0.00104602 -0.00291077 -0.00034161  0.00080201 -0.01370669\n",
      "  0.00104823 -0.00064696]\n",
      "b = -0.0066309595833583534\n",
      "Iteration 800 / Cost function J = 0.6673341312624032\n",
      "w = [ 0.00147296  0.00123147 -0.00329184 -0.00037735  0.0009222  -0.0136805\n",
      "  0.00122646 -0.0007147 ]\n",
      "b = -0.007517264565763941\n",
      "Iteration 900 / Cost function J = 0.6672813496628143\n",
      "w = [ 0.00166858  0.001417   -0.00367278 -0.00041311  0.00104236 -0.01365433\n",
      "  0.00140467 -0.00078236]\n",
      "b = -0.008403320890399257\n",
      "Iteration 1000 / Cost function J = 0.6672285945385028\n",
      "w = [ 0.00186422  0.00160262 -0.00405358 -0.00044887  0.00116251 -0.01362816\n",
      "  0.00158285 -0.00084992]\n",
      "b = -0.009289128657509138\n",
      "Iteration 1100 / Cost function J = 0.6671758658706342\n",
      "w = [ 0.00205988  0.00178832 -0.00443424 -0.00048464  0.00128263 -0.01360201\n",
      "  0.001761   -0.0009174 ]\n",
      "b = -0.010174687967324585\n",
      "Iteration 1200 / Cost function J = 0.6671231636403823\n",
      "w = [ 0.00225557  0.00197411 -0.00481477 -0.00052043  0.00140273 -0.01357588\n",
      "  0.00193914 -0.00098478]\n",
      "b = -0.011059998920062677\n",
      "Iteration 1300 / Cost function J = 0.6670704878289394\n",
      "w = [ 0.00245128  0.00215998 -0.00519516 -0.00055622  0.00152281 -0.01354975\n",
      "  0.00211724 -0.00105208]\n",
      "b = -0.011945061615926547\n",
      "Iteration 1400 / Cost function J = 0.6670178384175083\n",
      "w = [ 0.00264701  0.00234593 -0.00557541 -0.00059202  0.00164287 -0.01352364\n",
      "  0.00229533 -0.00111928]\n",
      "b = -0.012829876155105262\n",
      "Iteration 1500 / Cost function J = 0.6669652153873047\n",
      "w = [ 0.00284276  0.00253197 -0.00595553 -0.00062782  0.00176291 -0.01349754\n",
      "  0.00247339 -0.0011864 ]\n",
      "b = -0.013714442637773824\n",
      "Iteration 1600 / Cost function J = 0.6669126187195585\n",
      "w = [ 0.00303854  0.0027181  -0.00633551 -0.00066364  0.00188293 -0.01347145\n",
      "  0.00265142 -0.00125343]\n",
      "b = -0.014598761164093012\n",
      "Iteration 1700 / Cost function J = 0.666860048395512\n",
      "w = [ 0.00323434  0.00290431 -0.00671536 -0.00069947  0.00200292 -0.01344537\n",
      "  0.00282943 -0.00132037]\n",
      "b = -0.015482831834209392\n",
      "Iteration 1800 / Cost function J = 0.6668075043964217\n",
      "w = [ 0.00343016  0.0030906  -0.00709508 -0.0007353   0.0021229  -0.01341931\n",
      "  0.00300741 -0.00138722]\n",
      "b = -0.016366654748255226\n",
      "Iteration 1900 / Cost function J = 0.6667549867035569\n",
      "w = [ 0.00362601  0.00327698 -0.00747465 -0.00077115  0.00224285 -0.01339326\n",
      "  0.00318537 -0.00145399]\n",
      "b = -0.017250230006348368\n",
      "Iteration 2000 / Cost function J = 0.6667024952982\n",
      "w = [ 0.00382187  0.00346345 -0.00785409 -0.000807    0.00236278 -0.01336722\n",
      "  0.00336331 -0.00152066]\n",
      "b = -0.01813355770859225\n",
      "Iteration 2100 / Cost function J = 0.6666500301616454\n",
      "w = [ 0.00401776  0.00364999 -0.0082334  -0.00084286  0.00248269 -0.01334119\n",
      "  0.00354122 -0.00158725]\n",
      "b = -0.019016637955075782\n",
      "Iteration 2200 / Cost function J = 0.6665975912752032\n",
      "w = [ 0.00421367  0.00383662 -0.00861257 -0.00087873  0.00260258 -0.01331517\n",
      "  0.00371911 -0.00165375]\n",
      "b = -0.019899470845873322\n",
      "Iteration 2300 / Cost function J = 0.6665451786201948\n",
      "w = [ 0.00440961  0.00402334 -0.00899161 -0.00091461  0.00272245 -0.01328917\n",
      "  0.00389697 -0.00172015]\n",
      "b = -0.020782056481044562\n",
      "Iteration 2400 / Cost function J = 0.6664927921779557\n",
      "w = [ 0.00460556  0.00421014 -0.00937051 -0.0009505   0.00284229 -0.01326318\n",
      "  0.0040748  -0.00178647]\n",
      "b = -0.021664394960634475\n",
      "Iteration 2500 / Cost function J = 0.666440431929835\n",
      "w = [ 0.00480154  0.00439702 -0.00974927 -0.0009864   0.00296212 -0.0132372\n",
      "  0.00425261 -0.00185271]\n",
      "b = -0.022546486384673256\n",
      "Iteration 2600 / Cost function J = 0.6663880978571932\n",
      "w = [ 0.00499755  0.00458399 -0.0101279  -0.0010223   0.00308192 -0.01321124\n",
      "  0.0044304  -0.00191885]\n",
      "b = -0.023428330853176266\n",
      "Iteration 2700 / Cost function J = 0.666335789941405\n",
      "w = [ 0.00519357  0.00477104 -0.0105064  -0.00105822  0.0032017  -0.01318528\n",
      "  0.00460816 -0.00198491]\n",
      "b = -0.02430992846614395\n",
      "Iteration 2800 / Cost function J = 0.6662835081638576\n",
      "w = [ 0.00538961  0.00495818 -0.01088476 -0.00109414  0.00332146 -0.01315934\n",
      "  0.0047859  -0.00205087]\n",
      "b = -0.025191279323561803\n",
      "Iteration 2900 / Cost function J = 0.6662312525059535\n",
      "w = [ 0.00558568  0.0051454  -0.01126298 -0.00113008  0.0034412  -0.01313341\n",
      "  0.00496361 -0.00211675]\n",
      "b = -0.02607238352540021\n",
      "Iteration 3000 / Cost function J = 0.6661790229491077\n",
      "w = [ 0.00578177  0.0053327  -0.01164107 -0.00116602  0.00356091 -0.01310749\n",
      "  0.0051413  -0.00218254]\n",
      "b = -0.026953241171614514\n",
      "Iteration 3100 / Cost function J = 0.6661268194747441\n",
      "w = [ 0.00597788  0.00552009 -0.01201903 -0.00120197  0.00368061 -0.01308159\n",
      "  0.00531896 -0.00224824]\n",
      "b = -0.02783385236214485\n",
      "Iteration 3200 / Cost function J = 0.6660746420643079\n",
      "w = [ 0.00617402  0.00570756 -0.01239685 -0.00123793  0.00380028 -0.0130557\n",
      "  0.00549659 -0.00231386]\n",
      "b = -0.028714217196916105\n",
      "Iteration 3300 / Cost function J = 0.6660224906992505\n",
      "w = [ 0.00637018  0.00589511 -0.01277453 -0.0012739   0.00391994 -0.01302981\n",
      "  0.0056742  -0.00237939]\n",
      "b = -0.029594335775837904\n",
      "Iteration 3400 / Cost function J = 0.6659703653610378\n",
      "w = [ 0.00656635  0.00608275 -0.01315208 -0.00130987  0.00403957 -0.01300395\n",
      "  0.00585179 -0.00244482]\n",
      "b = -0.030474208198804434\n",
      "Iteration 3500 / Cost function J = 0.6659182660311519\n",
      "w = [ 0.00676255  0.00627047 -0.0135295  -0.00134586  0.00415918 -0.01297809\n",
      "  0.00602935 -0.00251018]\n",
      "b = -0.031353834565694474\n",
      "Iteration 3600 / Cost function J = 0.6658661926910845\n",
      "w = [ 0.00695878  0.00645828 -0.01390678 -0.00138185  0.00427877 -0.01295225\n",
      "  0.00620689 -0.00257544]\n",
      "b = -0.03223321497637133\n",
      "Iteration 3700 / Cost function J = 0.6658141453223433\n",
      "w = [ 0.00715502  0.00664616 -0.01428392 -0.00141786  0.00439833 -0.01292641\n",
      "  0.0063844  -0.00264061]\n",
      "b = -0.03311234953068267\n",
      "Iteration 3800 / Cost function J = 0.6657621239064474\n",
      "w = [ 0.00735129  0.00683414 -0.01466094 -0.00145387  0.00451788 -0.01290059\n",
      "  0.00656188 -0.0027057 ]\n",
      "b = -0.03399123832846068\n",
      "Iteration 3900 / Cost function J = 0.6657101284249294\n",
      "w = [ 0.00754757  0.00702219 -0.01503782 -0.00148989  0.0046374  -0.01287479\n",
      "  0.00673934 -0.0027707 ]\n",
      "b = -0.03486988146952168\n",
      "Iteration 4000 / Cost function J = 0.6656581588593351\n",
      "w = [ 0.00774388  0.00721033 -0.01541456 -0.00152592  0.00475691 -0.01284899\n",
      "  0.00691678 -0.00283561]\n",
      "b = -0.03574827905366629\n",
      "Iteration 4100 / Cost function J = 0.6656062151912235\n",
      "w = [ 0.00794022  0.00739855 -0.01579117 -0.00156196  0.00487639 -0.01282321\n",
      "  0.00709419 -0.00290044]\n",
      "b = -0.03662643118067933\n",
      "Iteration 4200 / Cost function J = 0.6655542974021672\n",
      "w = [ 0.00813657  0.00758685 -0.01616764 -0.001598    0.00499585 -0.01279744\n",
      "  0.00727157 -0.00296518]\n",
      "b = -0.037504337950329675\n",
      "Iteration 4300 / Cost function J = 0.665502405473751\n",
      "w = [ 0.00833294  0.00777524 -0.01654398 -0.00163406  0.00511529 -0.01277168\n",
      "  0.00744893 -0.00302983]\n",
      "b = -0.03838199946237029\n",
      "Iteration 4400 / Cost function J = 0.6654505393875726\n",
      "w = [ 0.00852934  0.00796371 -0.01692019 -0.00167012  0.00523471 -0.01274593\n",
      "  0.00762627 -0.00309439]\n",
      "b = -0.03925941581653812\n"
     ]
    },
    {
     "name": "stdout",
     "output_type": "stream",
     "text": [
      "Iteration 4500 / Cost function J = 0.6653986991252444\n",
      "w = [ 0.00872576  0.00815226 -0.01729626 -0.0017062   0.0053541  -0.0127202\n",
      "  0.00780357 -0.00315886]\n",
      "b = -0.040136587112554044\n",
      "Iteration 4600 / Cost function J = 0.6653468846683923\n",
      "w = [ 0.0089222   0.0083409  -0.0176722  -0.00174228  0.00547348 -0.01269447\n",
      "  0.00798086 -0.00322325]\n",
      "b = -0.041013513450122746\n",
      "Iteration 4700 / Cost function J = 0.6652950959986518\n",
      "w = [ 0.00911866  0.00852961 -0.018048   -0.00177837  0.00559283 -0.01266876\n",
      "  0.00815812 -0.00328755]\n",
      "b = -0.04189019492893273\n",
      "Iteration 4800 / Cost function J = 0.6652433330976737\n",
      "w = [ 0.00931515  0.00871842 -0.01842367 -0.00181447  0.00571216 -0.01264306\n",
      "  0.00833535 -0.00335177]\n",
      "b = -0.042766631648656205\n",
      "Iteration 4900 / Cost function J = 0.6651915959471251\n",
      "w = [ 0.00951165  0.0089073  -0.01879921 -0.00185057  0.00583147 -0.01261738\n",
      "  0.00851255 -0.00341589]\n",
      "b = -0.043642823708949056\n",
      "Iteration 5000 / Cost function J = 0.6651398845286799\n",
      "w = [ 0.00970818  0.00909626 -0.01917461 -0.00188669  0.00595076 -0.0125917\n",
      "  0.00868974 -0.00347993]\n",
      "b = -0.044518771209450816\n",
      "Iteration 5100 / Cost function J = 0.6650881988240293\n",
      "w = [ 0.00990472  0.00928531 -0.01954988 -0.00192282  0.00607003 -0.01256604\n",
      "  0.00886689 -0.00354388]\n",
      "b = -0.045394474249784475\n",
      "Iteration 5200 / Cost function J = 0.665036538814877\n",
      "w = [ 0.01010129  0.00947444 -0.01992502 -0.00195895  0.00618928 -0.01254039\n",
      "  0.00904402 -0.00360775]\n",
      "b = -0.04626993292955652\n",
      "Iteration 5300 / Cost function J = 0.6649849044829401\n",
      "w = [ 0.01029788  0.00966366 -0.02030002 -0.00199509  0.0063085  -0.01251475\n",
      "  0.00922113 -0.00367153]\n",
      "b = -0.04714514734835692\n",
      "Iteration 5400 / Cost function J = 0.6649332958099465\n",
      "w = [ 0.0104945   0.00985295 -0.02067489 -0.00203124  0.00642771 -0.01248913\n",
      "  0.00939821 -0.00373522]\n",
      "b = -0.04802011760575891\n",
      "Iteration 5500 / Cost function J = 0.6648817127776393\n",
      "w = [ 0.01069113  0.01004233 -0.02104962 -0.0020674   0.00654689 -0.01246351\n",
      "  0.00957526 -0.00379882]\n",
      "b = -0.048894843801318984\n",
      "Iteration 5600 / Cost function J = 0.6648301553677753\n",
      "w = [ 0.01088779  0.01023179 -0.02142422 -0.00210357  0.00666605 -0.01243791\n",
      "  0.00975229 -0.00386234]\n",
      "b = -0.04976932603457697\n",
      "Iteration 5700 / Cost function J = 0.6647786235621218\n",
      "w = [ 0.01108446  0.01042133 -0.02179869 -0.00213975  0.00678519 -0.01241232\n",
      "  0.00992929 -0.00392577]\n",
      "b = -0.050643564405055755\n",
      "Iteration 5800 / Cost function J = 0.664727117342462\n",
      "w = [ 0.01128116  0.01061096 -0.02217302 -0.00217594  0.00690431 -0.01238674\n",
      "  0.01010626 -0.00398912]\n",
      "b = -0.051517559012261405\n",
      "Iteration 5900 / Cost function J = 0.6646756366905902\n",
      "w = [ 0.01147788  0.01080066 -0.02254722 -0.00221213  0.0070234  -0.01236118\n",
      "  0.01028322 -0.00405238]\n",
      "b = -0.052391309955682905\n",
      "Iteration 6000 / Cost function J = 0.6646241815883153\n",
      "w = [ 0.01167462  0.01099045 -0.02292129 -0.00224833  0.00714248 -0.01233562\n",
      "  0.01046014 -0.00411555]\n",
      "b = -0.05326481733479241\n",
      "Iteration 6100 / Cost function J = 0.6645727520174562\n",
      "w = [ 0.01187138  0.01118032 -0.02329523 -0.00228454  0.00726153 -0.01231008\n",
      "  0.01063704 -0.00417863]\n",
      "b = -0.05413808124904479\n",
      "Iteration 6200 / Cost function J = 0.66452134795985\n",
      "w = [ 0.01206816  0.01137027 -0.02366903 -0.00232076  0.00738057 -0.01228455\n",
      "  0.01081391 -0.00424163]\n",
      "b = -0.05501110179787782\n",
      "Iteration 6300 / Cost function J = 0.6644699693973418\n",
      "w = [ 0.01226496  0.01156031 -0.02404269 -0.00235699  0.00749958 -0.01225903\n",
      "  0.01099076 -0.00430454]\n",
      "b = -0.05588387908071218\n",
      "Iteration 6400 / Cost function J = 0.6644186163117919\n",
      "w = [ 0.01246179  0.01175042 -0.02441623 -0.00239323  0.00761857 -0.01223353\n",
      "  0.01116758 -0.00436737]\n",
      "b = -0.05675641319695111\n",
      "Iteration 6500 / Cost function J = 0.6643672886850758\n",
      "w = [ 0.01265863  0.01194062 -0.02478963 -0.00242948  0.00773754 -0.01220803\n",
      "  0.01134438 -0.00443011]\n",
      "b = -0.05762870424598061\n",
      "Iteration 6600 / Cost function J = 0.6643159864990766\n",
      "w = [ 0.0128555   0.0121309  -0.0251629  -0.00246573  0.00785649 -0.01218255\n",
      "  0.01152115 -0.00449276]\n",
      "b = -0.05850075232716924\n",
      "Iteration 6700 / Cost function J = 0.664264709735699\n",
      "w = [ 0.01305239  0.01232126 -0.02553604 -0.00250199  0.00797541 -0.01215708\n",
      "  0.01169789 -0.00455533]\n",
      "b = -0.05937255753986817\n",
      "Iteration 6800 / Cost function J = 0.6642134583768505\n",
      "w = [ 0.01324929  0.0125117  -0.02590904 -0.00253826  0.00809432 -0.01213162\n",
      "  0.01187461 -0.00461781]\n",
      "b = -0.06024411998341108\n",
      "Iteration 6900 / Cost function J = 0.6641622324044586\n",
      "w = [ 0.01344622  0.01270223 -0.02628191 -0.00257455  0.0082132  -0.01210618\n",
      "  0.0120513  -0.00468021]\n",
      "b = -0.06111543975711391\n",
      "Iteration 7000 / Cost function J = 0.6641110318004616\n",
      "w = [ 0.01364317  0.01289283 -0.02665465 -0.00261083  0.00833206 -0.01208074\n",
      "  0.01222797 -0.00474252]\n",
      "b = -0.0619865169602751\n",
      "Iteration 7100 / Cost function J = 0.6640598565468122\n",
      "w = [ 0.01384014  0.01308352 -0.02702725 -0.00264713  0.0084509  -0.01205532\n",
      "  0.01240461 -0.00480474]\n",
      "b = -0.06285735169217534\n",
      "Iteration 7200 / Cost function J = 0.6640087066254738\n",
      "w = [ 0.01403713  0.01327428 -0.02739972 -0.00268344  0.00856972 -0.01202991\n",
      "  0.01258122 -0.00486688]\n",
      "b = -0.06372794405207756\n",
      "Iteration 7300 / Cost function J = 0.6639575820184241\n",
      "w = [ 0.01423415  0.01346513 -0.02777206 -0.00271975  0.00868852 -0.01200451\n",
      "  0.01275781 -0.00492893]\n",
      "b = -0.0645982941392269\n",
      "Iteration 7400 / Cost function J = 0.6639064827076564\n",
      "w = [ 0.01443118  0.01365606 -0.02814427 -0.00275607  0.0088073  -0.01197913\n",
      "  0.01293437 -0.00499089]\n",
      "b = -0.06546840205285062\n",
      "Iteration 7500 / Cost function J = 0.6638554086751703\n",
      "w = [ 0.01462823  0.01384707 -0.02851634 -0.0027924   0.00892605 -0.01195375\n",
      "  0.01311091 -0.00505277]\n",
      "b = -0.06633826789215802\n",
      "Iteration 7600 / Cost function J = 0.6638043599029868\n",
      "w = [ 0.01482531  0.01403816 -0.02888829 -0.00282874  0.00904479 -0.01192839\n",
      "  0.01328742 -0.00511457]\n",
      "b = -0.06720789175634038\n",
      "Iteration 7700 / Cost function J = 0.6637533363731324\n",
      "w = [ 0.0150224   0.01422934 -0.0292601  -0.00286509  0.0091635  -0.01190304\n",
      "  0.0134639  -0.00517628]\n",
      "b = -0.06807727374457097\n",
      "Iteration 7800 / Cost function J = 0.663702338067652\n",
      "w = [ 0.01521952  0.01442059 -0.02963177 -0.00290145  0.00928219 -0.0118777\n",
      "  0.01364036 -0.0052379 ]\n",
      "b = -0.0689464139560049\n",
      "Iteration 7900 / Cost function J = 0.6636513649686008\n",
      "w = [ 0.01541665  0.01461193 -0.03000332 -0.00293781  0.00940086 -0.01185237\n",
      "  0.01381679 -0.00529944]\n",
      "b = -0.06981531248977906\n",
      "Iteration 8000 / Cost function J = 0.6636004170580466\n",
      "w = [ 0.01561381  0.01480334 -0.03037473 -0.00297419  0.00951951 -0.01182706\n",
      "  0.01399319 -0.00536089]\n",
      "b = -0.07068396944501228\n",
      "Iteration 8100 / Cost function J = 0.6635494943180722\n",
      "w = [ 0.01581099  0.01499484 -0.03074601 -0.00301057  0.00963814 -0.01180175\n",
      "  0.01416957 -0.00542226]\n",
      "b = -0.0715523849208048\n",
      "Iteration 8200 / Cost function J = 0.6634985967307738\n",
      "w = [ 0.01600819  0.01518641 -0.03111716 -0.00304696  0.00975674 -0.01177646\n",
      "  0.01434592 -0.00548354]\n",
      "b = -0.07242055901623891\n",
      "Iteration 8300 / Cost function J = 0.6634477242782559\n",
      "w = [ 0.0162054   0.01537807 -0.03148818 -0.00308336  0.00987533 -0.01175118\n",
      "  0.01452225 -0.00554473]\n",
      "b = -0.07328849183037806\n",
      "Iteration 8400 / Cost function J = 0.6633968769426427\n",
      "w = [ 0.01640264  0.01556981 -0.03185906 -0.00311977  0.00999389 -0.01172592\n",
      "  0.01469855 -0.00560584]\n",
      "b = -0.07415618346226752\n",
      "Iteration 8500 / Cost function J = 0.6633460547060667\n",
      "w = [ 0.0165999   0.01576163 -0.03222982 -0.00315618  0.01011243 -0.01170066\n",
      "  0.01487482 -0.00566687]\n",
      "b = -0.07502363401093386\n",
      "Iteration 8600 / Cost function J = 0.6632952575506739\n",
      "w = [ 0.01679718  0.01595353 -0.03260044 -0.00319261  0.01023096 -0.01167542\n",
      "  0.01505107 -0.00572781]\n",
      "b = -0.07589084357538524\n",
      "Iteration 8700 / Cost function J = 0.6632444854586261\n",
      "w = [ 0.01699448  0.0161455  -0.03297093 -0.00322904  0.01034945 -0.01165019\n",
      "  0.01522729 -0.00578866]\n",
      "b = -0.07675781225461085\n",
      "Iteration 8800 / Cost function J = 0.6631937384120933\n",
      "w = [ 0.0171918   0.01633756 -0.03334128 -0.00326548  0.01046793 -0.01162496\n",
      "  0.01540348 -0.00584943]\n",
      "b = -0.07762454014758154\n",
      "Iteration 8900 / Cost function J = 0.6631430163932632\n",
      "w = [ 0.01738914  0.0165297  -0.03371151 -0.00330193  0.01058639 -0.01159976\n",
      "  0.01557965 -0.00591012]\n",
      "b = -0.07849102735324914\n",
      "Iteration 9000 / Cost function J = 0.663092319384334\n",
      "w = [ 0.0175865   0.01672192 -0.0340816  -0.00333839  0.01070483 -0.01157456\n",
      "  0.01575579 -0.00597072]\n",
      "b = -0.07935727397054676\n"
     ]
    },
    {
     "name": "stdout",
     "output_type": "stream",
     "text": [
      "Iteration 9100 / Cost function J = 0.663041647367517\n",
      "w = [ 0.01778388  0.01691422 -0.03445157 -0.00337485  0.01082324 -0.01154938\n",
      "  0.0159319  -0.00603123]\n",
      "b = -0.08022328009838858\n",
      "Iteration 9200 / Cost function J = 0.6629910003250379\n",
      "w = [ 0.01798128  0.0171066  -0.0348214  -0.00341133  0.01094163 -0.0115242\n",
      "  0.01610799 -0.00609166]\n",
      "b = -0.08108904583566995\n",
      "Iteration 9300 / Cost function J = 0.6629403782391325\n",
      "w = [ 0.0181787   0.01729906 -0.0351911  -0.00344781  0.01106    -0.01149904\n",
      "  0.01628405 -0.00615201]\n",
      "b = -0.08195457128126703\n",
      "Iteration 9400 / Cost function J = 0.6628897810920522\n",
      "w = [ 0.01837614  0.0174916  -0.03556066 -0.0034843   0.01117835 -0.01147389\n",
      "  0.01646009 -0.00621227]\n",
      "b = -0.08281985653403715\n",
      "Iteration 9500 / Cost function J = 0.6628392088660595\n",
      "w = [ 0.0185736   0.01768422 -0.0359301  -0.0035208   0.01129668 -0.01144875\n",
      "  0.0166361  -0.00627245]\n",
      "b = -0.08368490169281835\n",
      "Iteration 9600 / Cost function J = 0.6627886615434333\n",
      "w = [ 0.01877108  0.01787692 -0.03629941 -0.00355731  0.01141499 -0.01142363\n",
      "  0.01681208 -0.00633254]\n",
      "b = -0.08454970685642965\n",
      "Iteration 9700 / Cost function J = 0.6627381391064612\n",
      "w = [ 0.01896859  0.0180697  -0.03666858 -0.00359383  0.01153328 -0.01139851\n",
      "  0.01698803 -0.00639254]\n",
      "b = -0.08541427212367061\n",
      "Iteration 9800 / Cost function J = 0.6626876415374452\n",
      "w = [ 0.01916611  0.01826256 -0.03703762 -0.00363035  0.01165154 -0.01137341\n",
      "  0.01716396 -0.00645247]\n",
      "b = -0.08627859759332182\n",
      "Iteration 9900 / Cost function J = 0.6626371688186999\n",
      "w = [ 0.01936365  0.0184555  -0.03740653 -0.00366688  0.01176979 -0.01134832\n",
      "  0.01733986 -0.0065123 ]\n",
      "b = -0.08714268336414412\n"
     ]
    }
   ],
   "source": [
    "m,n = x_train.shape\n",
    "w = np.zeros(n,)\n",
    "b = 0\n",
    "alpha = 0.0002\n",
    "num_iter = 10000\n",
    "\n",
    "w_final , b_final = gradient_descent(x_train,y_train,w,b,alpha,num_iter)"
   ]
  },
  {
   "cell_type": "code",
   "execution_count": 27,
   "metadata": {
    "execution": {
     "iopub.execute_input": "2023-12-12T22:44:16.584117Z",
     "iopub.status.busy": "2023-12-12T22:44:16.583795Z",
     "iopub.status.idle": "2023-12-12T22:44:16.592444Z",
     "shell.execute_reply": "2023-12-12T22:44:16.591084Z",
     "shell.execute_reply.started": "2023-12-12T22:44:16.584088Z"
    }
   },
   "outputs": [
    {
     "name": "stdout",
     "output_type": "stream",
     "text": [
      "[ 0.01955923  0.01864659 -0.03777163 -0.00370306  0.01188683 -0.01132349\n",
      "  0.01751398 -0.00657146]\n",
      "-0.08799789225886823\n"
     ]
    }
   ],
   "source": [
    "print(w_final)\n",
    "print(b_final)"
   ]
  },
  {
   "cell_type": "code",
   "execution_count": 28,
   "metadata": {
    "execution": {
     "iopub.execute_input": "2023-12-12T22:44:16.594995Z",
     "iopub.status.busy": "2023-12-12T22:44:16.594541Z",
     "iopub.status.idle": "2023-12-12T22:44:16.607710Z",
     "shell.execute_reply": "2023-12-12T22:44:16.606374Z",
     "shell.execute_reply.started": "2023-12-12T22:44:16.594954Z"
    }
   },
   "outputs": [
    {
     "name": "stdout",
     "output_type": "stream",
     "text": [
      "Accuracy: 64.3 %\n"
     ]
    }
   ],
   "source": [
    "#Model Testing\n",
    "m,n = x_test.shape\n",
    "total = 0\n",
    "for i in range(m):\n",
    "    if round(sigmoid(x_test[i],w_final,b_final)) == y_test[i]:\n",
    "        total += 1\n",
    "print(f\"Accuracy: {((total / m) * 100):.1f} %\")"
   ]
  }
 ],
 "metadata": {
  "kaggle": {
   "accelerator": "none",
   "dataSources": [
    {
     "datasetId": 185987,
     "sourceId": 416528,
     "sourceType": "datasetVersion"
    }
   ],
   "dockerImageVersionId": 30615,
   "isGpuEnabled": false,
   "isInternetEnabled": true,
   "language": "python",
   "sourceType": "notebook"
  },
  "kernelspec": {
   "display_name": "Python 3 (ipykernel)",
   "language": "python",
   "name": "python3"
  },
  "language_info": {
   "codemirror_mode": {
    "name": "ipython",
    "version": 3
   },
   "file_extension": ".py",
   "mimetype": "text/x-python",
   "name": "python",
   "nbconvert_exporter": "python",
   "pygments_lexer": "ipython3",
   "version": "3.9.12"
  }
 },
 "nbformat": 4,
 "nbformat_minor": 4
}
